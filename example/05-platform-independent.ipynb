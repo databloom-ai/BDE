{
 "cells": [
  {
   "cell_type": "markdown",
   "metadata": {
    "tags": []
   },
   "source": [
    "# WordCount Example\n",
    "\n",
    "In this WordCount Example our goal is:\n",
    "\n",
    "&emsp; Take a first look at the Wayang API in a short program\n",
    "- Wayang API is similar to Spark API\n",
    "- Do not require \"a steep learning curve\"\n",
    "\n",
    "&emsp; Show the provided abstraction on top of Big Data Platforms\n",
    "- Single Data Analytics task can run on any platform \n",
    "- Potentially substasks can run in different Platforms if the task could take advantage of it "
   ]
  },
  {
   "cell_type": "markdown",
   "metadata": {
    "tags": []
   },
   "source": [
    "---\n",
    "\n",
    "## Preparing dependancies\n"
   ]
  },
  {
   "cell_type": "markdown",
   "metadata": {},
   "source": [
    "<!--  Importing the needs libraries for the exections, this are comming from the maven instalation perfomed in the step 0 -->\n",
    "\n",
    "<!-- > This step imports the necessary libraries for subsequent program executions.\n",
    "All these packages come from the previous Maven Instalation -->\n",
    "This step imports the required modules to execute the code. All these packages come from the previous Maven Instalation\n",
    "\n",
    "The imported libraries are:\n",
    "\n",
    "Module | Java's | Scala's | Description\n",
    ":----- | -------------: | --------------: | :----------\n",
    "wayang-core | 8, 11 | 2.11, 2.12 | provides core data structures and the optimizer (required)\n",
    "wayang-basic | 8, 11 | 2.11, 2.12 | provides common operators and data types for your apps (recommended)\n",
    "wayang-api-scala-java | 8, 11 | 2.11, 2.12 | provides an easy-to-use Scala and Java API to assemble wayang plans (recommended)\n",
    "wayang-java | 8, 11 | 2.11, 2.12 | adapters for [Java Stream](https://docs.oracle.com/javase/8/docs/api/java/util/stream/Stream.html) processing platforms\n",
    "wayang-spark | 8, 11 | 2.11, 2.12 | adapters for [Apache Spark](https://spark.apache.org) processing platforms\n",
    "wayang-flink | 8, 11 | 2.11, 2.12 | adapters for [Apache Flink](https://flink.apache.org) processing platforms\n",
    "hadoop-common | 8,11 | - | Hadoop-commons is required because the lack of the Environment Variable **HADOOP_HOME**\n"
   ]
  },
  {
   "cell_type": "code",
   "execution_count": 1,
   "metadata": {},
   "outputs": [
    {
     "data": {
      "text/plain": [
       "\u001b[32mimport \u001b[39m\u001b[36m$ivy.$                                                            \n",
       "\u001b[39m\n",
       "\u001b[32mimport \u001b[39m\u001b[36m$ivy.$                                             \n",
       "\u001b[39m\n",
       "\u001b[32mimport \u001b[39m\u001b[36m$ivy.$                                              \n",
       "\u001b[39m\n",
       "\u001b[32mimport \u001b[39m\u001b[36m$ivy.$                                             \n",
       "\u001b[39m\n",
       "\u001b[32mimport \u001b[39m\u001b[36m$ivy.$                                      \n",
       "\u001b[39m\n",
       "\u001b[32mimport \u001b[39m\u001b[36m$ivy.$                                         \n",
       "\n",
       "/* Include required classes */\n",
       "\u001b[39m\n",
       "\u001b[32mimport \u001b[39m\u001b[36morg.apache.wayang.api._\n",
       "\u001b[39m\n",
       "\u001b[32mimport \u001b[39m\u001b[36morg.apache.wayang.core.api.{Configuration, WayangContext}\n",
       "\u001b[39m\n",
       "\u001b[32mimport \u001b[39m\u001b[36morg.apache.wayang.core.util.fs.FileSystems\n",
       "\u001b[39m\n",
       "\u001b[32mimport \u001b[39m\u001b[36morg.apache.wayang.java.Java\n",
       "\u001b[39m\n",
       "\u001b[32mimport \u001b[39m\u001b[36mjava.io.File;\u001b[39m"
      ]
     },
     "execution_count": 1,
     "metadata": {},
     "output_type": "execute_result"
    }
   ],
   "source": [
    "/* Import Dependencies */\n",
    "import $ivy.`org.apache.wayang:wayang-api-scala-java_2.12:0.6.1-SNAPSHOT`\n",
    "import $ivy.`org.apache.wayang:wayang-core:0.6.1-SNAPSHOT`\n",
    "import $ivy.`org.apache.wayang:wayang-basic:0.6.1-SNAPSHOT`\n",
    "import $ivy.`org.apache.wayang:wayang-java:0.6.1-SNAPSHOT`\n",
    "import $ivy.`org.apache.hadoop:hadoop-common:2.8.5`\n",
    "import $ivy.`com.thoughtworks.paranamer:paranamer:2.8`\n",
    "\n",
    "/* Include required classes */\n",
    "import org.apache.wayang.api._\n",
    "import org.apache.wayang.core.api.{Configuration, WayangContext}\n",
    "import org.apache.wayang.core.util.fs.FileSystems\n",
    "import org.apache.wayang.java.Java\n",
    "import java.io.File;"
   ]
  },
  {
   "cell_type": "markdown",
   "metadata": {},
   "source": [
    "## Wayang Context \n",
    "\n",
    "Wayang Context is the entry point for users to work with Wayang. Allows to declare explicitly an execution Platform to run the code.\n",
    "\n",
    "- The object Java.basicPlugin enables to use Wayang Operators on the Java Platform\n",
    "\n",
    "> WayangContext also manages the Job creation and its execution as Wayang Plans"
   ]
  },
  {
   "cell_type": "code",
   "execution_count": 2,
   "metadata": {},
   "outputs": [
    {
     "data": {
      "text/plain": [
       "\u001b[36mcontext\u001b[39m: \u001b[32mWayangContext\u001b[39m = org.apache.wayang.core.api.WayangContext@4619f668"
      ]
     },
     "execution_count": 2,
     "metadata": {},
     "output_type": "execute_result"
    }
   ],
   "source": [
    "val context = new WayangContext().withPlugin(Java.basicPlugin)"
   ]
  },
  {
   "cell_type": "markdown",
   "metadata": {},
   "source": [
    "## Wordcount program - Platform Agnostic\n",
    "\n",
    "- Plan Builder works as an utility to build and execute Wayang Plans \n",
    "- A Wayang Plan consists of a set of operators with dependencies between them\n",
    "- The provided logical plan is independant of any underlying platform to use\n",
    "> Wayang performs an optimization process over this Wayang plan, transforming this logical plan in a set of Physical operators to be executable by specific platforms"
   ]
  },
  {
   "cell_type": "code",
   "execution_count": 3,
   "metadata": {},
   "outputs": [
    {
     "data": {
      "text/plain": [
       "defined \u001b[32mfunction\u001b[39m \u001b[36mwordcount\u001b[39m"
      ]
     },
     "execution_count": 3,
     "metadata": {},
     "output_type": "execute_result"
    }
   ],
   "source": [
    "def wordcount(context: WayangContext) = {\n",
    "    val planBuilder = new PlanBuilder(context)\n",
    "    \n",
    "    val inputFile = new File(\"book.txt\").toURI().toString()\n",
    "    \n",
    "    planBuilder\n",
    "      .withJobName(s\"WordCount ($inputFile)\")\n",
    "      .readTextFile(inputFile)\n",
    "      .flatMap(_.split(\"\\\\W+\"))\n",
    "      .filter(_.nonEmpty)\n",
    "      .map(word => (word.toLowerCase, 1))\n",
    "      .reduceByKey(_._1, (c1, c2) => (c1._1, c1._2 + c2._2))\n",
    "      .collect()\n",
    "}"
   ]
  },
  {
   "cell_type": "code",
   "execution_count": 4,
   "metadata": {},
   "outputs": [
    {
     "data": {
      "text/html": [
       "<div class=\"jp-RenderedText\">\n",
       "<pre><code><span style=\"color: rgb(0, 187, 187)\"><span class=\"ansi-cyan-fg\">result</span></span>: <span style=\"color: rgb(0, 187, 0)\"><span class=\"ansi-green-fg\">Iterable</span></span>[(<span style=\"color: rgb(0, 187, 0)\"><span class=\"ansi-green-fg\">String</span></span>, <span style=\"color: rgb(0, 187, 0)\"><span class=\"ansi-green-fg\">Int</span></span>)] = <span style=\"color: yellow\"><span class=\"ansi-yellow-fg\">Buffer</span></span>(\n",
       "  (<span style=\"color: rgb(0, 187, 0)\"><span class=\"ansi-green-fg\">&quot;frowning&quot;</span></span>, <span style=\"color: rgb(0, 187, 0)\"><span class=\"ansi-green-fg\">10</span></span>),\n",
       "  (<span style=\"color: rgb(0, 187, 0)\"><span class=\"ansi-green-fg\">&quot;horsepoliceman&quot;</span></span>, <span style=\"color: rgb(0, 187, 0)\"><span class=\"ansi-green-fg\">1</span></span>),\n",
       "  (<span style=\"color: rgb(0, 187, 0)\"><span class=\"ansi-green-fg\">&quot;zulus&quot;</span></span>, <span style=\"color: rgb(0, 187, 0)\"><span class=\"ansi-green-fg\">1</span></span>),\n",
       "  (<span style=\"color: rgb(0, 187, 0)\"><span class=\"ansi-green-fg\">&quot;spilling&quot;</span></span>, <span style=\"color: rgb(0, 187, 0)\"><span class=\"ansi-green-fg\">3</span></span>),\n",
       "  (<span style=\"color: rgb(0, 187, 0)\"><span class=\"ansi-green-fg\">&quot;auditively&quot;</span></span>, <span style=\"color: rgb(0, 187, 0)\"><span class=\"ansi-green-fg\">1</span></span>),\n",
       "  (<span style=\"color: rgb(0, 187, 0)\"><span class=\"ansi-green-fg\">&quot;abrupt&quot;</span></span>, <span style=\"color: rgb(0, 187, 0)\"><span class=\"ansi-green-fg\">1</span></span>),\n",
       "  (<span style=\"color: rgb(0, 187, 0)\"><span class=\"ansi-green-fg\">&quot;kraandl&quot;</span></span>, <span style=\"color: rgb(0, 187, 0)\"><span class=\"ansi-green-fg\">1</span></span>),\n",
       "  (<span style=\"color: rgb(0, 187, 0)\"><span class=\"ansi-green-fg\">&quot;jellily&quot;</span></span>, <span style=\"color: rgb(0, 187, 0)\"><span class=\"ansi-green-fg\">1</span></span>),\n",
       "  (<span style=\"color: rgb(0, 187, 0)\"><span class=\"ansi-green-fg\">&quot;agendath&quot;</span></span>, <span style=\"color: rgb(0, 187, 0)\"><span class=\"ansi-green-fg\">14</span></span>),\n",
       "  (<span style=\"color: rgb(0, 187, 0)\"><span class=\"ansi-green-fg\">&quot;salary&quot;</span></span>, <span style=\"color: rgb(0, 187, 0)\"><span class=\"ansi-green-fg\">2</span></span>),\n",
       "  (<span style=\"color: rgb(0, 187, 0)\"><span class=\"ansi-green-fg\">&quot;pretend&quot;</span></span>, <span style=\"color: rgb(0, 187, 0)\"><span class=\"ansi-green-fg\">5</span></span>),\n",
       "  (<span style=\"color: rgb(0, 187, 0)\"><span class=\"ansi-green-fg\">&quot;childs&quot;</span></span>, <span style=\"color: rgb(0, 187, 0)\"><span class=\"ansi-green-fg\">8</span></span>),\n",
       "  (<span style=\"color: rgb(0, 187, 0)\"><span class=\"ansi-green-fg\">&quot;guards&quot;</span></span>, <span style=\"color: rgb(0, 187, 0)\"><span class=\"ansi-green-fg\">1</span></span>),\n",
       "  (<span style=\"color: rgb(0, 187, 0)\"><span class=\"ansi-green-fg\">&quot;eamus&quot;</span></span>, <span style=\"color: rgb(0, 187, 0)\"><span class=\"ansi-green-fg\">3</span></span>),\n",
       "  (<span style=\"color: rgb(0, 187, 0)\"><span class=\"ansi-green-fg\">&quot;childe&quot;</span></span>, <span style=\"color: rgb(0, 187, 0)\"><span class=\"ansi-green-fg\">2</span></span>),\n",
       "  (<span style=\"color: rgb(0, 187, 0)\"><span class=\"ansi-green-fg\">&quot;whenas&quot;</span></span>, <span style=\"color: rgb(0, 187, 0)\"><span class=\"ansi-green-fg\">1</span></span>),\n",
       "  (<span style=\"color: rgb(0, 187, 0)\"><span class=\"ansi-green-fg\">&quot;catamite&quot;</span></span>, <span style=\"color: rgb(0, 187, 0)\"><span class=\"ansi-green-fg\">1</span></span>),\n",
       "  (<span style=\"color: rgb(0, 187, 0)\"><span class=\"ansi-green-fg\">&quot;widowhood&quot;</span></span>, <span style=\"color: rgb(0, 187, 0)\"><span class=\"ansi-green-fg\">1</span></span>),\n",
       "  (<span style=\"color: rgb(0, 187, 0)\"><span class=\"ansi-green-fg\">&quot;stonily&quot;</span></span>, <span style=\"color: rgb(0, 187, 0)\"><span class=\"ansi-green-fg\">1</span></span>),\n",
       "  (<span style=\"color: rgb(0, 187, 0)\"><span class=\"ansi-green-fg\">&quot;ruttime&quot;</span></span>, <span style=\"color: rgb(0, 187, 0)\"><span class=\"ansi-green-fg\">1</span></span>),\n",
       "  (<span style=\"color: rgb(0, 187, 0)\"><span class=\"ansi-green-fg\">&quot;mulveys&quot;</span></span>, <span style=\"color: rgb(0, 187, 0)\"><span class=\"ansi-green-fg\">2</span></span>),\n",
       "  (<span style=\"color: rgb(0, 187, 0)\"><span class=\"ansi-green-fg\">&quot;coals&quot;</span></span>, <span style=\"color: rgb(0, 187, 0)\"><span class=\"ansi-green-fg\">5</span></span>),\n",
       "  (<span style=\"color: rgb(0, 187, 0)\"><span class=\"ansi-green-fg\">&quot;avant&quot;</span></span>, <span style=\"color: rgb(0, 187, 0)\"><span class=\"ansi-green-fg\">4</span></span>),\n",
       "  (<span style=\"color: rgb(0, 187, 0)\"><span class=\"ansi-green-fg\">&quot;blasts&quot;</span></span>, <span style=\"color: rgb(0, 187, 0)\"><span class=\"ansi-green-fg\">1</span></span>),\n",
       "  (<span style=\"color: rgb(0, 187, 0)\"><span class=\"ansi-green-fg\">&quot;forlornlooking&quot;</span></span>, <span style=\"color: rgb(0, 187, 0)\"><span class=\"ansi-green-fg\">1</span></span>),\n",
       "  (<span style=\"color: rgb(0, 187, 0)\"><span class=\"ansi-green-fg\">&quot;posthumity&quot;</span></span>, <span style=\"color: rgb(0, 187, 0)\"><span class=\"ansi-green-fg\">1</span></span>),\n",
       "  (<span style=\"color: rgb(0, 187, 0)\"><span class=\"ansi-green-fg\">&quot;compassionate&quot;</span></span>, <span style=\"color: rgb(0, 187, 0)\"><span class=\"ansi-green-fg\">1</span></span>),\n",
       "  (<span style=\"color: rgb(0, 187, 0)\"><span class=\"ansi-green-fg\">&quot;tallow&quot;</span></span>, <span style=\"color: rgb(0, 187, 0)\"><span class=\"ansi-green-fg\">1</span></span>),\n",
       "  (<span style=\"color: rgb(0, 187, 0)\"><span class=\"ansi-green-fg\">&quot;cockhorse&quot;</span></span>, <span style=\"color: rgb(0, 187, 0)\"><span class=\"ansi-green-fg\">3</span></span>),\n",
       "  (<span style=\"color: rgb(0, 187, 0)\"><span class=\"ansi-green-fg\">&quot;0&quot;</span></span>, <span style=\"color: rgb(0, 187, 0)\"><span class=\"ansi-green-fg\">3</span></span>),\n",
       "  (<span style=\"color: rgb(0, 187, 0)\"><span class=\"ansi-green-fg\">&quot;1&quot;</span></span>, <span style=\"color: rgb(0, 187, 0)\"><span class=\"ansi-green-fg\">17</span></span>),\n",
       "  (<span style=\"color: rgb(0, 187, 0)\"><span class=\"ansi-green-fg\">&quot;2&quot;</span></span>, <span style=\"color: rgb(0, 187, 0)\"><span class=\"ansi-green-fg\">15</span></span>),\n",
       "  (<span style=\"color: rgb(0, 187, 0)\"><span class=\"ansi-green-fg\">&quot;4&quot;</span></span>, <span style=\"color: rgb(0, 187, 0)\"><span class=\"ansi-green-fg\">1</span></span>),\n",
       "  (<span style=\"color: rgb(0, 187, 0)\"><span class=\"ansi-green-fg\">&quot;decorators&quot;</span></span>, <span style=\"color: rgb(0, 187, 0)\"><span class=\"ansi-green-fg\">1</span></span>),\n",
       "  (<span style=\"color: rgb(0, 187, 0)\"><span class=\"ansi-green-fg\">&quot;5&quot;</span></span>, <span style=\"color: rgb(0, 187, 0)\"><span class=\"ansi-green-fg\">5</span></span>),\n",
       "  (<span style=\"color: rgb(0, 187, 0)\"><span class=\"ansi-green-fg\">&quot;bandolierwise&quot;</span></span>, <span style=\"color: rgb(0, 187, 0)\"><span class=\"ansi-green-fg\">1</span></span>),\n",
       "  (<span style=\"color: rgb(0, 187, 0)\"><span class=\"ansi-green-fg\">&quot;6&quot;</span></span>, <span style=\"color: rgb(0, 187, 0)\"><span class=\"ansi-green-fg\">11</span></span>),\n",
       "  (<span style=\"color: rgb(0, 187, 0)\"><span class=\"ansi-green-fg\">&quot;tallon&quot;</span></span>, <span style=\"color: rgb(0, 187, 0)\"><span class=\"ansi-green-fg\">1</span></span>),\n",
       "...</code></pre>\n",
       "</div>"
      ],
      "text/plain": [
       "\u001b[36mresult\u001b[39m: \u001b[32mIterable\u001b[39m[(\u001b[32mString\u001b[39m, \u001b[32mInt\u001b[39m)] = \u001b[33mBuffer\u001b[39m(\n",
       "  (\u001b[32m\"frowning\"\u001b[39m, \u001b[32m10\u001b[39m),\n",
       "  (\u001b[32m\"horsepoliceman\"\u001b[39m, \u001b[32m1\u001b[39m),\n",
       "  (\u001b[32m\"zulus\"\u001b[39m, \u001b[32m1\u001b[39m),\n",
       "  (\u001b[32m\"spilling\"\u001b[39m, \u001b[32m3\u001b[39m),\n",
       "  (\u001b[32m\"auditively\"\u001b[39m, \u001b[32m1\u001b[39m),\n",
       "  (\u001b[32m\"abrupt\"\u001b[39m, \u001b[32m1\u001b[39m),\n",
       "  (\u001b[32m\"kraandl\"\u001b[39m, \u001b[32m1\u001b[39m),\n",
       "  (\u001b[32m\"jellily\"\u001b[39m, \u001b[32m1\u001b[39m),\n",
       "  (\u001b[32m\"agendath\"\u001b[39m, \u001b[32m14\u001b[39m),\n",
       "  (\u001b[32m\"salary\"\u001b[39m, \u001b[32m2\u001b[39m),\n",
       "  (\u001b[32m\"pretend\"\u001b[39m, \u001b[32m5\u001b[39m),\n",
       "  (\u001b[32m\"childs\"\u001b[39m, \u001b[32m8\u001b[39m),\n",
       "  (\u001b[32m\"guards\"\u001b[39m, \u001b[32m1\u001b[39m),\n",
       "  (\u001b[32m\"eamus\"\u001b[39m, \u001b[32m3\u001b[39m),\n",
       "  (\u001b[32m\"childe\"\u001b[39m, \u001b[32m2\u001b[39m),\n",
       "  (\u001b[32m\"whenas\"\u001b[39m, \u001b[32m1\u001b[39m),\n",
       "  (\u001b[32m\"catamite\"\u001b[39m, \u001b[32m1\u001b[39m),\n",
       "  (\u001b[32m\"widowhood\"\u001b[39m, \u001b[32m1\u001b[39m),\n",
       "  (\u001b[32m\"stonily\"\u001b[39m, \u001b[32m1\u001b[39m),\n",
       "  (\u001b[32m\"ruttime\"\u001b[39m, \u001b[32m1\u001b[39m),\n",
       "  (\u001b[32m\"mulveys\"\u001b[39m, \u001b[32m2\u001b[39m),\n",
       "  (\u001b[32m\"coals\"\u001b[39m, \u001b[32m5\u001b[39m),\n",
       "  (\u001b[32m\"avant\"\u001b[39m, \u001b[32m4\u001b[39m),\n",
       "  (\u001b[32m\"blasts\"\u001b[39m, \u001b[32m1\u001b[39m),\n",
       "  (\u001b[32m\"forlornlooking\"\u001b[39m, \u001b[32m1\u001b[39m),\n",
       "  (\u001b[32m\"posthumity\"\u001b[39m, \u001b[32m1\u001b[39m),\n",
       "  (\u001b[32m\"compassionate\"\u001b[39m, \u001b[32m1\u001b[39m),\n",
       "  (\u001b[32m\"tallow\"\u001b[39m, \u001b[32m1\u001b[39m),\n",
       "  (\u001b[32m\"cockhorse\"\u001b[39m, \u001b[32m3\u001b[39m),\n",
       "  (\u001b[32m\"0\"\u001b[39m, \u001b[32m3\u001b[39m),\n",
       "  (\u001b[32m\"1\"\u001b[39m, \u001b[32m17\u001b[39m),\n",
       "  (\u001b[32m\"2\"\u001b[39m, \u001b[32m15\u001b[39m),\n",
       "  (\u001b[32m\"4\"\u001b[39m, \u001b[32m1\u001b[39m),\n",
       "  (\u001b[32m\"decorators\"\u001b[39m, \u001b[32m1\u001b[39m),\n",
       "  (\u001b[32m\"5\"\u001b[39m, \u001b[32m5\u001b[39m),\n",
       "  (\u001b[32m\"bandolierwise\"\u001b[39m, \u001b[32m1\u001b[39m),\n",
       "  (\u001b[32m\"6\"\u001b[39m, \u001b[32m11\u001b[39m),\n",
       "  (\u001b[32m\"tallon\"\u001b[39m, \u001b[32m1\u001b[39m),\n",
       "..."
      ]
     },
     "metadata": {},
     "output_type": "display_data"
    }
   ],
   "source": [
    "var result = wordcount(context)"
   ]
  },
  {
   "cell_type": "markdown",
   "metadata": {},
   "source": [
    "## Including Spark dependencies\n",
    "\n",
    "Now, Wayang context will reassign the target platform\n",
    "\n",
    "- First step, adding Wayang Spark Module dependencies"
   ]
  },
  {
   "cell_type": "code",
   "execution_count": 5,
   "metadata": {},
   "outputs": [
    {
     "data": {
      "text/plain": [
       "\u001b[32mimport \u001b[39m\u001b[36m$ivy.$                                                   \n",
       "\n",
       "\n",
       "\n",
       "\u001b[39m"
      ]
     },
     "execution_count": 5,
     "metadata": {},
     "output_type": "execute_result"
    }
   ],
   "source": [
    "\n",
    "import $ivy.`org.apache.wayang:wayang-spark_2.12:0.6.1-SNAPSHOT`\n",
    "\n",
    "\n",
    "\n"
   ]
  },
  {
   "cell_type": "markdown",
   "metadata": {},
   "source": [
    "- Then, import the Spark Class"
   ]
  },
  {
   "cell_type": "code",
   "execution_count": 6,
   "metadata": {},
   "outputs": [
    {
     "data": {
      "text/plain": [
       "\u001b[32mimport \u001b[39m\u001b[36morg.apache.wayang.spark.Spark\u001b[39m"
      ]
     },
     "execution_count": 6,
     "metadata": {},
     "output_type": "execute_result"
    }
   ],
   "source": [
    "import org.apache.wayang.spark.Spark"
   ]
  },
  {
   "cell_type": "markdown",
   "metadata": {},
   "source": [
    "- Finally, Wayang context is set to work with Spark Platform"
   ]
  },
  {
   "cell_type": "code",
   "execution_count": 7,
   "metadata": {},
   "outputs": [
    {
     "data": {
      "text/plain": [
       "\u001b[36mcontext\u001b[39m: \u001b[32mWayangContext\u001b[39m = org.apache.wayang.core.api.WayangContext@3596ffea"
      ]
     },
     "execution_count": 7,
     "metadata": {},
     "output_type": "execute_result"
    }
   ],
   "source": [
    "val context = new WayangContext().withPlugin(Spark.basicPlugin)"
   ]
  },
  {
   "cell_type": "code",
   "execution_count": 8,
   "metadata": {},
   "outputs": [
    {
     "name": "stderr",
     "output_type": "stream",
     "text": [
      "SLF4J: Class path contains multiple SLF4J bindings.\n",
      "SLF4J: Found binding in [jar:file:/home/jovyan/.cache/coursier/v1/https/repo1.maven.org/maven2/org/slf4j/slf4j-log4j12/1.7.10/slf4j-log4j12-1.7.10.jar!/org/slf4j/impl/StaticLoggerBinder.class]\n",
      "SLF4J: Found binding in [jar:file:/home/jovyan/.cache/coursier/v1/https/repo1.maven.org/maven2/org/slf4j/slf4j-log4j12/1.7.30/slf4j-log4j12-1.7.30.jar!/org/slf4j/impl/StaticLoggerBinder.class]\n",
      "SLF4J: See http://www.slf4j.org/codes.html#multiple_bindings for an explanation.\n",
      "SLF4J: Actual binding is of type [org.slf4j.impl.Log4jLoggerFactory]\n",
      "Using Spark's default log4j profile: org/apache/spark/log4j-defaults.properties\n",
      "22/03/04 15:07:36 INFO SparkContext: Running Spark version 3.1.2\n",
      "22/03/04 15:07:36 WARN NativeCodeLoader: Unable to load native-hadoop library for your platform... using builtin-java classes where applicable\n",
      "22/03/04 15:07:36 INFO ResourceUtils: ==============================================================\n",
      "22/03/04 15:07:36 INFO ResourceUtils: No custom resources configured for spark.driver.\n",
      "22/03/04 15:07:36 INFO ResourceUtils: ==============================================================\n",
      "22/03/04 15:07:36 INFO SparkContext: Submitted application: WordCount (file:/home/jovyan/work/files/book.txt)\n",
      "22/03/04 15:07:36 INFO ResourceProfile: Default ResourceProfile created, executor resources: Map(cores -> name: cores, amount: 1, script: , vendor: , memory -> name: memory, amount: 1024, script: , vendor: , offHeap -> name: offHeap, amount: 0, script: , vendor: ), task resources: Map(cpus -> name: cpus, amount: 1.0)\n",
      "22/03/04 15:07:36 INFO ResourceProfile: Limiting resource is cpu\n",
      "22/03/04 15:07:36 INFO ResourceProfileManager: Added ResourceProfile id: 0\n",
      "22/03/04 15:07:36 INFO SecurityManager: Changing view acls to: jovyan\n",
      "22/03/04 15:07:36 INFO SecurityManager: Changing modify acls to: jovyan\n",
      "22/03/04 15:07:36 INFO SecurityManager: Changing view acls groups to: \n",
      "22/03/04 15:07:36 INFO SecurityManager: Changing modify acls groups to: \n",
      "22/03/04 15:07:36 INFO SecurityManager: SecurityManager: authentication disabled; ui acls disabled; users  with view permissions: Set(jovyan); groups with view permissions: Set(); users  with modify permissions: Set(jovyan); groups with modify permissions: Set()\n",
      "22/03/04 15:07:37 INFO Utils: Successfully started service 'sparkDriver' on port 35223.\n",
      "22/03/04 15:07:37 INFO SparkEnv: Registering MapOutputTracker\n",
      "22/03/04 15:07:37 INFO SparkEnv: Registering BlockManagerMaster\n",
      "22/03/04 15:07:37 INFO BlockManagerMasterEndpoint: Using org.apache.spark.storage.DefaultTopologyMapper for getting topology information\n",
      "22/03/04 15:07:37 INFO BlockManagerMasterEndpoint: BlockManagerMasterEndpoint up\n",
      "22/03/04 15:07:37 INFO SparkEnv: Registering BlockManagerMasterHeartbeat\n",
      "22/03/04 15:07:37 INFO DiskBlockManager: Created local directory at /tmp/blockmgr-3641da46-7210-447c-bd64-60a9cd8e1207\n",
      "22/03/04 15:07:37 INFO MemoryStore: MemoryStore started with capacity 880.5 MiB\n",
      "22/03/04 15:07:37 INFO SparkEnv: Registering OutputCommitCoordinator\n",
      "22/03/04 15:07:37 INFO Utils: Successfully started service 'SparkUI' on port 4040.\n",
      "22/03/04 15:07:38 INFO SparkUI: Bound SparkUI to 0.0.0.0, and started at http://3164d0df1529:4040\n",
      "22/03/04 15:07:38 INFO Executor: Starting executor ID driver on host 3164d0df1529\n",
      "22/03/04 15:07:38 INFO Utils: Successfully started service 'org.apache.spark.network.netty.NettyBlockTransferService' on port 33123.\n",
      "22/03/04 15:07:38 INFO NettyBlockTransferService: Server created on 3164d0df1529:33123\n",
      "22/03/04 15:07:38 INFO BlockManager: Using org.apache.spark.storage.RandomBlockReplicationPolicy for block replication policy\n",
      "22/03/04 15:07:38 INFO BlockManagerMaster: Registering BlockManager BlockManagerId(driver, 3164d0df1529, 33123, None)\n",
      "22/03/04 15:07:38 INFO BlockManagerMasterEndpoint: Registering block manager 3164d0df1529:33123 with 880.5 MiB RAM, BlockManagerId(driver, 3164d0df1529, 33123, None)\n",
      "22/03/04 15:07:38 INFO BlockManagerMaster: Registered BlockManager BlockManagerId(driver, 3164d0df1529, 33123, None)\n",
      "22/03/04 15:07:38 INFO BlockManager: Initialized BlockManager: BlockManagerId(driver, 3164d0df1529, 33123, None)\n",
      "22/03/04 15:07:38 INFO MemoryStore: Block broadcast_0 stored as values in memory (estimated size 257.3 KiB, free 880.2 MiB)\n",
      "22/03/04 15:07:39 INFO MemoryStore: Block broadcast_0_piece0 stored as bytes in memory (estimated size 25.1 KiB, free 880.2 MiB)\n",
      "22/03/04 15:07:39 INFO BlockManagerInfo: Added broadcast_0_piece0 in memory on 3164d0df1529:33123 (size: 25.1 KiB, free: 880.5 MiB)\n",
      "22/03/04 15:07:39 INFO SparkContext: Created broadcast 0 from textFile at SparkTextFileSource.java:70\n",
      "22/03/04 15:07:39 INFO SparkContext: Starting job: hasNext at Iterator.java:115\n",
      "22/03/04 15:07:39 INFO FileInputFormat: Total input files to process : 1\n",
      "22/03/04 15:07:39 INFO DAGScheduler: Registering RDD 5 (mapToPair at SparkReduceByOperator.java:95) as input to shuffle 0\n",
      "22/03/04 15:07:39 INFO DAGScheduler: Got job 0 (hasNext at Iterator.java:115) with 1 output partitions\n",
      "22/03/04 15:07:39 INFO DAGScheduler: Final stage: ResultStage 1 (hasNext at Iterator.java:115)\n",
      "22/03/04 15:07:39 INFO DAGScheduler: Parents of final stage: List(ShuffleMapStage 0)\n",
      "22/03/04 15:07:39 INFO DAGScheduler: Missing parents: List(ShuffleMapStage 0)\n",
      "22/03/04 15:07:39 INFO DAGScheduler: Submitting ShuffleMapStage 0 (SparkReduceBy[1->1, id=43a6966a] MapPartitionsRDD[5] at mapToPair at SparkReduceByOperator.java:95), which has no missing parents\n",
      "22/03/04 15:07:39 INFO MemoryStore: Block broadcast_1 stored as values in memory (estimated size 9.2 KiB, free 880.2 MiB)\n",
      "22/03/04 15:07:39 INFO MemoryStore: Block broadcast_1_piece0 stored as bytes in memory (estimated size 4.7 KiB, free 880.2 MiB)\n",
      "22/03/04 15:07:39 INFO BlockManagerInfo: Added broadcast_1_piece0 in memory on 3164d0df1529:33123 (size: 4.7 KiB, free: 880.5 MiB)\n",
      "22/03/04 15:07:39 INFO SparkContext: Created broadcast 1 from broadcast at DAGScheduler.scala:1388\n",
      "22/03/04 15:07:39 INFO DAGScheduler: Submitting 1 missing tasks from ShuffleMapStage 0 (SparkReduceBy[1->1, id=43a6966a] MapPartitionsRDD[5] at mapToPair at SparkReduceByOperator.java:95) (first 15 tasks are for partitions Vector(0))\n",
      "22/03/04 15:07:39 INFO TaskSchedulerImpl: Adding task set 0.0 with 1 tasks resource profile 0\n",
      "22/03/04 15:07:39 INFO TaskSetManager: Starting task 0.0 in stage 0.0 (TID 0) (3164d0df1529, executor driver, partition 0, PROCESS_LOCAL, 4495 bytes) taskResourceAssignments Map()\n",
      "22/03/04 15:07:39 INFO Executor: Running task 0.0 in stage 0.0 (TID 0)\n",
      "22/03/04 15:07:40 INFO HadoopRDD: Input split: file:/home/jovyan/work/files/book.txt:0+1417216\n",
      "22/03/04 15:07:41 INFO Executor: Finished task 0.0 in stage 0.0 (TID 0). 1336 bytes result sent to driver\n",
      "22/03/04 15:07:41 INFO TaskSetManager: Finished task 0.0 in stage 0.0 (TID 0) in 1371 ms on 3164d0df1529 (executor driver) (1/1)\n",
      "22/03/04 15:07:41 INFO TaskSchedulerImpl: Removed TaskSet 0.0, whose tasks have all completed, from pool \n",
      "22/03/04 15:07:41 INFO DAGScheduler: ShuffleMapStage 0 (mapToPair at SparkReduceByOperator.java:95) finished in 1.552 s\n",
      "22/03/04 15:07:41 INFO DAGScheduler: looking for newly runnable stages\n",
      "22/03/04 15:07:41 INFO DAGScheduler: running: Set()\n",
      "22/03/04 15:07:41 INFO DAGScheduler: waiting: Set(ResultStage 1)\n",
      "22/03/04 15:07:41 INFO DAGScheduler: failed: Set()\n",
      "22/03/04 15:07:41 INFO DAGScheduler: Submitting ResultStage 1 (SparkReduceBy[1->1, id=43a6966a] MapPartitionsRDD[7] at map at SparkReduceByOperator.java:100), which has no missing parents\n",
      "22/03/04 15:07:41 INFO MemoryStore: Block broadcast_2 stored as values in memory (estimated size 5.4 KiB, free 880.2 MiB)\n",
      "22/03/04 15:07:41 INFO MemoryStore: Block broadcast_2_piece0 stored as bytes in memory (estimated size 2.9 KiB, free 880.2 MiB)\n",
      "22/03/04 15:07:41 INFO BlockManagerInfo: Added broadcast_2_piece0 in memory on 3164d0df1529:33123 (size: 2.9 KiB, free: 880.5 MiB)\n",
      "22/03/04 15:07:41 INFO SparkContext: Created broadcast 2 from broadcast at DAGScheduler.scala:1388\n",
      "22/03/04 15:07:41 INFO DAGScheduler: Submitting 1 missing tasks from ResultStage 1 (SparkReduceBy[1->1, id=43a6966a] MapPartitionsRDD[7] at map at SparkReduceByOperator.java:100) (first 15 tasks are for partitions Vector(0))\n",
      "22/03/04 15:07:41 INFO TaskSchedulerImpl: Adding task set 1.0 with 1 tasks resource profile 0\n",
      "22/03/04 15:07:41 INFO TaskSetManager: Starting task 0.0 in stage 1.0 (TID 1) (3164d0df1529, executor driver, partition 0, NODE_LOCAL, 4271 bytes) taskResourceAssignments Map()\n",
      "22/03/04 15:07:41 INFO Executor: Running task 0.0 in stage 1.0 (TID 1)\n",
      "22/03/04 15:07:41 INFO ShuffleBlockFetcherIterator: Getting 1 (99.6 KiB) non-empty blocks including 1 (99.6 KiB) local and 0 (0.0 B) host-local and 0 (0.0 B) remote blocks\n",
      "22/03/04 15:07:41 INFO ShuffleBlockFetcherIterator: Started 0 remote fetches in 12 ms\n",
      "22/03/04 15:07:41 INFO Executor: Finished task 0.0 in stage 1.0 (TID 1). 167335 bytes result sent to driver\n",
      "22/03/04 15:07:41 INFO TaskSetManager: Finished task 0.0 in stage 1.0 (TID 1) in 187 ms on 3164d0df1529 (executor driver) (1/1)\n",
      "22/03/04 15:07:41 INFO DAGScheduler: ResultStage 1 (hasNext at Iterator.java:115) finished in 0.214 s\n",
      "22/03/04 15:07:41 INFO DAGScheduler: Job 0 is finished. Cancelling potential speculative or zombie tasks for this job\n",
      "22/03/04 15:07:41 INFO TaskSchedulerImpl: Removed TaskSet 1.0, whose tasks have all completed, from pool \n",
      "22/03/04 15:07:41 INFO TaskSchedulerImpl: Killing all running tasks in stage 1: Stage finished\n",
      "22/03/04 15:07:41 INFO DAGScheduler: Job 0 finished: hasNext at Iterator.java:115, took 2.009900 s\n",
      "22/03/04 15:07:41 INFO SparkContext: Starting job: hasNext at Iterator.java:115\n",
      "22/03/04 15:07:41 INFO DAGScheduler: Got job 1 (hasNext at Iterator.java:115) with 1 output partitions\n",
      "22/03/04 15:07:41 INFO DAGScheduler: Final stage: ResultStage 3 (hasNext at Iterator.java:115)\n",
      "22/03/04 15:07:41 INFO DAGScheduler: Parents of final stage: List(ShuffleMapStage 2)\n",
      "22/03/04 15:07:41 INFO DAGScheduler: Missing parents: List()\n",
      "22/03/04 15:07:41 INFO DAGScheduler: Submitting ResultStage 3 (SparkReduceBy[1->1, id=43a6966a] MapPartitionsRDD[7] at map at SparkReduceByOperator.java:100), which has no missing parents\n",
      "22/03/04 15:07:41 INFO MemoryStore: Block broadcast_3 stored as values in memory (estimated size 5.4 KiB, free 880.2 MiB)\n",
      "22/03/04 15:07:41 INFO MemoryStore: Block broadcast_3_piece0 stored as bytes in memory (estimated size 2.9 KiB, free 880.2 MiB)\n",
      "22/03/04 15:07:41 INFO BlockManagerInfo: Added broadcast_3_piece0 in memory on 3164d0df1529:33123 (size: 2.9 KiB, free: 880.5 MiB)\n",
      "22/03/04 15:07:41 INFO SparkContext: Created broadcast 3 from broadcast at DAGScheduler.scala:1388\n",
      "22/03/04 15:07:41 INFO DAGScheduler: Submitting 1 missing tasks from ResultStage 3 (SparkReduceBy[1->1, id=43a6966a] MapPartitionsRDD[7] at map at SparkReduceByOperator.java:100) (first 15 tasks are for partitions Vector(1))\n",
      "22/03/04 15:07:41 INFO TaskSchedulerImpl: Adding task set 3.0 with 1 tasks resource profile 0\n",
      "22/03/04 15:07:41 INFO TaskSetManager: Starting task 0.0 in stage 3.0 (TID 2) (3164d0df1529, executor driver, partition 1, NODE_LOCAL, 4271 bytes) taskResourceAssignments Map()\n",
      "22/03/04 15:07:41 INFO Executor: Running task 0.0 in stage 3.0 (TID 2)\n",
      "22/03/04 15:07:41 INFO ShuffleBlockFetcherIterator: Getting 1 (99.6 KiB) non-empty blocks including 1 (99.6 KiB) local and 0 (0.0 B) host-local and 0 (0.0 B) remote blocks\n",
      "22/03/04 15:07:41 INFO ShuffleBlockFetcherIterator: Started 0 remote fetches in 0 ms\n",
      "22/03/04 15:07:41 INFO Executor: Finished task 0.0 in stage 3.0 (TID 2). 167569 bytes result sent to driver\n",
      "22/03/04 15:07:41 INFO TaskSetManager: Finished task 0.0 in stage 3.0 (TID 2) in 111 ms on 3164d0df1529 (executor driver) (1/1)\n",
      "22/03/04 15:07:41 INFO DAGScheduler: ResultStage 3 (hasNext at Iterator.java:115) finished in 0.127 s\n",
      "22/03/04 15:07:41 INFO DAGScheduler: Job 1 is finished. Cancelling potential speculative or zombie tasks for this job\n",
      "22/03/04 15:07:41 INFO TaskSchedulerImpl: Removed TaskSet 3.0, whose tasks have all completed, from pool \n",
      "22/03/04 15:07:41 INFO TaskSchedulerImpl: Killing all running tasks in stage 3: Stage finished\n",
      "22/03/04 15:07:41 INFO DAGScheduler: Job 1 finished: hasNext at Iterator.java:115, took 0.139408 s\n",
      "22/03/04 15:07:41 INFO SparkContext: Starting job: hasNext at Iterator.java:115\n",
      "22/03/04 15:07:41 INFO DAGScheduler: Got job 2 (hasNext at Iterator.java:115) with 1 output partitions\n",
      "22/03/04 15:07:41 INFO DAGScheduler: Final stage: ResultStage 5 (hasNext at Iterator.java:115)\n",
      "22/03/04 15:07:41 INFO DAGScheduler: Parents of final stage: List(ShuffleMapStage 4)\n",
      "22/03/04 15:07:41 INFO DAGScheduler: Missing parents: List()\n",
      "22/03/04 15:07:41 INFO DAGScheduler: Submitting ResultStage 5 (SparkReduceBy[1->1, id=43a6966a] MapPartitionsRDD[7] at map at SparkReduceByOperator.java:100), which has no missing parents\n",
      "22/03/04 15:07:41 INFO MemoryStore: Block broadcast_4 stored as values in memory (estimated size 5.4 KiB, free 880.2 MiB)\n",
      "22/03/04 15:07:41 INFO MemoryStore: Block broadcast_4_piece0 stored as bytes in memory (estimated size 2.9 KiB, free 880.2 MiB)\n",
      "22/03/04 15:07:41 INFO BlockManagerInfo: Added broadcast_4_piece0 in memory on 3164d0df1529:33123 (size: 2.9 KiB, free: 880.5 MiB)\n",
      "22/03/04 15:07:41 INFO SparkContext: Created broadcast 4 from broadcast at DAGScheduler.scala:1388\n",
      "22/03/04 15:07:41 INFO DAGScheduler: Submitting 1 missing tasks from ResultStage 5 (SparkReduceBy[1->1, id=43a6966a] MapPartitionsRDD[7] at map at SparkReduceByOperator.java:100) (first 15 tasks are for partitions Vector(2))\n",
      "22/03/04 15:07:41 INFO TaskSchedulerImpl: Adding task set 5.0 with 1 tasks resource profile 0\n",
      "22/03/04 15:07:41 INFO TaskSetManager: Starting task 0.0 in stage 5.0 (TID 3) (3164d0df1529, executor driver, partition 2, NODE_LOCAL, 4271 bytes) taskResourceAssignments Map()\n",
      "22/03/04 15:07:41 INFO Executor: Running task 0.0 in stage 5.0 (TID 3)\n",
      "22/03/04 15:07:41 INFO ShuffleBlockFetcherIterator: Getting 1 (99.6 KiB) non-empty blocks including 1 (99.6 KiB) local and 0 (0.0 B) host-local and 0 (0.0 B) remote blocks\n",
      "22/03/04 15:07:41 INFO ShuffleBlockFetcherIterator: Started 0 remote fetches in 0 ms\n",
      "22/03/04 15:07:41 INFO Executor: Finished task 0.0 in stage 5.0 (TID 3). 165896 bytes result sent to driver\n",
      "22/03/04 15:07:41 INFO TaskSetManager: Finished task 0.0 in stage 5.0 (TID 3) in 105 ms on 3164d0df1529 (executor driver) (1/1)\n",
      "22/03/04 15:07:41 INFO DAGScheduler: ResultStage 5 (hasNext at Iterator.java:115) finished in 0.114 s\n",
      "22/03/04 15:07:41 INFO DAGScheduler: Job 2 is finished. Cancelling potential speculative or zombie tasks for this job\n",
      "22/03/04 15:07:41 INFO TaskSchedulerImpl: Removed TaskSet 5.0, whose tasks have all completed, from pool \n",
      "22/03/04 15:07:41 INFO TaskSchedulerImpl: Killing all running tasks in stage 5: Stage finished\n",
      "22/03/04 15:07:41 INFO DAGScheduler: Job 2 finished: hasNext at Iterator.java:115, took 0.119230 s\n",
      "22/03/04 15:07:41 INFO SparkContext: Starting job: hasNext at Iterator.java:115\n",
      "22/03/04 15:07:41 INFO DAGScheduler: Got job 3 (hasNext at Iterator.java:115) with 1 output partitions\n",
      "22/03/04 15:07:41 INFO DAGScheduler: Final stage: ResultStage 7 (hasNext at Iterator.java:115)\n",
      "22/03/04 15:07:41 INFO DAGScheduler: Parents of final stage: List(ShuffleMapStage 6)\n",
      "22/03/04 15:07:41 INFO DAGScheduler: Missing parents: List()\n",
      "22/03/04 15:07:41 INFO DAGScheduler: Submitting ResultStage 7 (SparkReduceBy[1->1, id=43a6966a] MapPartitionsRDD[7] at map at SparkReduceByOperator.java:100), which has no missing parents\n",
      "22/03/04 15:07:41 INFO MemoryStore: Block broadcast_5 stored as values in memory (estimated size 5.4 KiB, free 880.2 MiB)\n",
      "22/03/04 15:07:41 INFO MemoryStore: Block broadcast_5_piece0 stored as bytes in memory (estimated size 2.9 KiB, free 880.2 MiB)\n",
      "22/03/04 15:07:41 INFO BlockManagerInfo: Added broadcast_5_piece0 in memory on 3164d0df1529:33123 (size: 2.9 KiB, free: 880.5 MiB)\n",
      "22/03/04 15:07:41 INFO SparkContext: Created broadcast 5 from broadcast at DAGScheduler.scala:1388\n",
      "22/03/04 15:07:41 INFO DAGScheduler: Submitting 1 missing tasks from ResultStage 7 (SparkReduceBy[1->1, id=43a6966a] MapPartitionsRDD[7] at map at SparkReduceByOperator.java:100) (first 15 tasks are for partitions Vector(3))\n",
      "22/03/04 15:07:41 INFO TaskSchedulerImpl: Adding task set 7.0 with 1 tasks resource profile 0\n",
      "22/03/04 15:07:41 INFO TaskSetManager: Starting task 0.0 in stage 7.0 (TID 4) (3164d0df1529, executor driver, partition 3, NODE_LOCAL, 4271 bytes) taskResourceAssignments Map()\n",
      "22/03/04 15:07:41 INFO Executor: Running task 0.0 in stage 7.0 (TID 4)\n",
      "22/03/04 15:07:41 INFO ShuffleBlockFetcherIterator: Getting 1 (99.6 KiB) non-empty blocks including 1 (99.6 KiB) local and 0 (0.0 B) host-local and 0 (0.0 B) remote blocks\n",
      "22/03/04 15:07:41 INFO ShuffleBlockFetcherIterator: Started 0 remote fetches in 2 ms\n",
      "22/03/04 15:07:41 INFO Executor: Finished task 0.0 in stage 7.0 (TID 4). 167916 bytes result sent to driver\n",
      "22/03/04 15:07:41 INFO TaskSetManager: Finished task 0.0 in stage 7.0 (TID 4) in 100 ms on 3164d0df1529 (executor driver) (1/1)\n",
      "22/03/04 15:07:41 INFO TaskSchedulerImpl: Removed TaskSet 7.0, whose tasks have all completed, from pool \n",
      "22/03/04 15:07:41 INFO DAGScheduler: ResultStage 7 (hasNext at Iterator.java:115) finished in 0.111 s\n",
      "22/03/04 15:07:41 INFO DAGScheduler: Job 3 is finished. Cancelling potential speculative or zombie tasks for this job\n",
      "22/03/04 15:07:41 INFO TaskSchedulerImpl: Killing all running tasks in stage 7: Stage finished\n",
      "22/03/04 15:07:41 INFO DAGScheduler: Job 3 finished: hasNext at Iterator.java:115, took 0.114381 s\n",
      "22/03/04 15:07:41 INFO SparkUI: Stopped Spark web UI at http://3164d0df1529:4040\n",
      "22/03/04 15:07:41 INFO MapOutputTrackerMasterEndpoint: MapOutputTrackerMasterEndpoint stopped!\n",
      "22/03/04 15:07:41 INFO MemoryStore: MemoryStore cleared\n",
      "22/03/04 15:07:41 INFO BlockManager: BlockManager stopped\n",
      "22/03/04 15:07:41 INFO BlockManagerMaster: BlockManagerMaster stopped\n",
      "22/03/04 15:07:41 INFO OutputCommitCoordinator$OutputCommitCoordinatorEndpoint: OutputCommitCoordinator stopped!\n",
      "22/03/04 15:07:41 INFO SparkContext: Successfully stopped SparkContext\n"
     ]
    },
    {
     "data": {
      "text/html": [
       "<div class=\"jp-RenderedText\">\n",
       "<pre><code><span style=\"color: rgb(0, 187, 187)\"><span class=\"ansi-cyan-fg\">result</span></span>: <span style=\"color: rgb(0, 187, 0)\"><span class=\"ansi-green-fg\">Iterable</span></span>[(<span style=\"color: rgb(0, 187, 0)\"><span class=\"ansi-green-fg\">String</span></span>, <span style=\"color: rgb(0, 187, 0)\"><span class=\"ansi-green-fg\">Int</span></span>)] = <span style=\"color: yellow\"><span class=\"ansi-yellow-fg\">Buffer</span></span>(\n",
       "  (<span style=\"color: rgb(0, 187, 0)\"><span class=\"ansi-green-fg\">&quot;celebrant&quot;</span></span>, <span style=\"color: rgb(0, 187, 0)\"><span class=\"ansi-green-fg\">3</span></span>),\n",
       "  (<span style=\"color: rgb(0, 187, 0)\"><span class=\"ansi-green-fg\">&quot;mattered&quot;</span></span>, <span style=\"color: rgb(0, 187, 0)\"><span class=\"ansi-green-fg\">2</span></span>),\n",
       "  (<span style=\"color: rgb(0, 187, 0)\"><span class=\"ansi-green-fg\">&quot;intimately&quot;</span></span>, <span style=\"color: rgb(0, 187, 0)\"><span class=\"ansi-green-fg\">1</span></span>),\n",
       "  (<span style=\"color: rgb(0, 187, 0)\"><span class=\"ansi-green-fg\">&quot;reunion&quot;</span></span>, <span style=\"color: rgb(0, 187, 0)\"><span class=\"ansi-green-fg\">2</span></span>),\n",
       "  (<span style=\"color: rgb(0, 187, 0)\"><span class=\"ansi-green-fg\">&quot;bone&quot;</span></span>, <span style=\"color: rgb(0, 187, 0)\"><span class=\"ansi-green-fg\">11</span></span>),\n",
       "  (<span style=\"color: rgb(0, 187, 0)\"><span class=\"ansi-green-fg\">&quot;nobleman&quot;</span></span>, <span style=\"color: rgb(0, 187, 0)\"><span class=\"ansi-green-fg\">7</span></span>),\n",
       "  (<span style=\"color: rgb(0, 187, 0)\"><span class=\"ansi-green-fg\">&quot;syringes&quot;</span></span>, <span style=\"color: rgb(0, 187, 0)\"><span class=\"ansi-green-fg\">1</span></span>),\n",
       "  (<span style=\"color: rgb(0, 187, 0)\"><span class=\"ansi-green-fg\">&quot;showy&quot;</span></span>, <span style=\"color: rgb(0, 187, 0)\"><span class=\"ansi-green-fg\">1</span></span>),\n",
       "  (<span style=\"color: rgb(0, 187, 0)\"><span class=\"ansi-green-fg\">&quot;bombast&quot;</span></span>, <span style=\"color: rgb(0, 187, 0)\"><span class=\"ansi-green-fg\">1</span></span>),\n",
       "  (<span style=\"color: rgb(0, 187, 0)\"><span class=\"ansi-green-fg\">&quot;alavatar&quot;</span></span>, <span style=\"color: rgb(0, 187, 0)\"><span class=\"ansi-green-fg\">1</span></span>),\n",
       "  (<span style=\"color: rgb(0, 187, 0)\"><span class=\"ansi-green-fg\">&quot;runner&quot;</span></span>, <span style=\"color: rgb(0, 187, 0)\"><span class=\"ansi-green-fg\">1</span></span>),\n",
       "  (<span style=\"color: rgb(0, 187, 0)\"><span class=\"ansi-green-fg\">&quot;gaping&quot;</span></span>, <span style=\"color: rgb(0, 187, 0)\"><span class=\"ansi-green-fg\">11</span></span>),\n",
       "  (<span style=\"color: rgb(0, 187, 0)\"><span class=\"ansi-green-fg\">&quot;overcoats&quot;</span></span>, <span style=\"color: rgb(0, 187, 0)\"><span class=\"ansi-green-fg\">4</span></span>),\n",
       "  (<span style=\"color: rgb(0, 187, 0)\"><span class=\"ansi-green-fg\">&quot;gowns&quot;</span></span>, <span style=\"color: rgb(0, 187, 0)\"><span class=\"ansi-green-fg\">2</span></span>),\n",
       "  (<span style=\"color: rgb(0, 187, 0)\"><span class=\"ansi-green-fg\">&quot;hem&quot;</span></span>, <span style=\"color: rgb(0, 187, 0)\"><span class=\"ansi-green-fg\">2</span></span>),\n",
       "  (<span style=\"color: rgb(0, 187, 0)\"><span class=\"ansi-green-fg\">&quot;spirited&quot;</span></span>, <span style=\"color: rgb(0, 187, 0)\"><span class=\"ansi-green-fg\">1</span></span>),\n",
       "  (<span style=\"color: rgb(0, 187, 0)\"><span class=\"ansi-green-fg\">&quot;loveshivery&quot;</span></span>, <span style=\"color: rgb(0, 187, 0)\"><span class=\"ansi-green-fg\">1</span></span>),\n",
       "  (<span style=\"color: rgb(0, 187, 0)\"><span class=\"ansi-green-fg\">&quot;been&quot;</span></span>, <span style=\"color: rgb(0, 187, 0)\"><span class=\"ansi-green-fg\">203</span></span>),\n",
       "  (<span style=\"color: rgb(0, 187, 0)\"><span class=\"ansi-green-fg\">&quot;fuller&quot;</span></span>, <span style=\"color: rgb(0, 187, 0)\"><span class=\"ansi-green-fg\">3</span></span>),\n",
       "  (<span style=\"color: rgb(0, 187, 0)\"><span class=\"ansi-green-fg\">&quot;jade&quot;</span></span>, <span style=\"color: rgb(0, 187, 0)\"><span class=\"ansi-green-fg\">1</span></span>),\n",
       "  (<span style=\"color: rgb(0, 187, 0)\"><span class=\"ansi-green-fg\">&quot;jove&quot;</span></span>, <span style=\"color: rgb(0, 187, 0)\"><span class=\"ansi-green-fg\">5</span></span>),\n",
       "  (<span style=\"color: rgb(0, 187, 0)\"><span class=\"ansi-green-fg\">&quot;crying&quot;</span></span>, <span style=\"color: rgb(0, 187, 0)\"><span class=\"ansi-green-fg\">10</span></span>),\n",
       "  (<span style=\"color: rgb(0, 187, 0)\"><span class=\"ansi-green-fg\">&quot;showtrays&quot;</span></span>, <span style=\"color: rgb(0, 187, 0)\"><span class=\"ansi-green-fg\">1</span></span>),\n",
       "  (<span style=\"color: rgb(0, 187, 0)\"><span class=\"ansi-green-fg\">&quot;pwfungg&quot;</span></span>, <span style=\"color: rgb(0, 187, 0)\"><span class=\"ansi-green-fg\">1</span></span>),\n",
       "  (<span style=\"color: rgb(0, 187, 0)\"><span class=\"ansi-green-fg\">&quot;breath&quot;</span></span>, <span style=\"color: rgb(0, 187, 0)\"><span class=\"ansi-green-fg\">59</span></span>),\n",
       "  (<span style=\"color: rgb(0, 187, 0)\"><span class=\"ansi-green-fg\">&quot;repress&quot;</span></span>, <span style=\"color: rgb(0, 187, 0)\"><span class=\"ansi-green-fg\">3</span></span>),\n",
       "  (<span style=\"color: rgb(0, 187, 0)\"><span class=\"ansi-green-fg\">&quot;recurrence&quot;</span></span>, <span style=\"color: rgb(0, 187, 0)\"><span class=\"ansi-green-fg\">3</span></span>),\n",
       "  (<span style=\"color: rgb(0, 187, 0)\"><span class=\"ansi-green-fg\">&quot;tongued&quot;</span></span>, <span style=\"color: rgb(0, 187, 0)\"><span class=\"ansi-green-fg\">1</span></span>),\n",
       "  (<span style=\"color: rgb(0, 187, 0)\"><span class=\"ansi-green-fg\">&quot;knows&quot;</span></span>, <span style=\"color: rgb(0, 187, 0)\"><span class=\"ansi-green-fg\">72</span></span>),\n",
       "  (<span style=\"color: rgb(0, 187, 0)\"><span class=\"ansi-green-fg\">&quot;cleric&quot;</span></span>, <span style=\"color: rgb(0, 187, 0)\"><span class=\"ansi-green-fg\">1</span></span>),\n",
       "  (<span style=\"color: rgb(0, 187, 0)\"><span class=\"ansi-green-fg\">&quot;husky&quot;</span></span>, <span style=\"color: rgb(0, 187, 0)\"><span class=\"ansi-green-fg\">3</span></span>),\n",
       "  (<span style=\"color: rgb(0, 187, 0)\"><span class=\"ansi-green-fg\">&quot;distrait&quot;</span></span>, <span style=\"color: rgb(0, 187, 0)\"><span class=\"ansi-green-fg\">2</span></span>),\n",
       "  (<span style=\"color: rgb(0, 187, 0)\"><span class=\"ansi-green-fg\">&quot;eventuality&quot;</span></span>, <span style=\"color: rgb(0, 187, 0)\"><span class=\"ansi-green-fg\">2</span></span>),\n",
       "  (<span style=\"color: rgb(0, 187, 0)\"><span class=\"ansi-green-fg\">&quot;tips&quot;</span></span>, <span style=\"color: rgb(0, 187, 0)\"><span class=\"ansi-green-fg\">3</span></span>),\n",
       "  (<span style=\"color: rgb(0, 187, 0)\"><span class=\"ansi-green-fg\">&quot;coylo&quot;</span></span>, <span style=\"color: rgb(0, 187, 0)\"><span class=\"ansi-green-fg\">1</span></span>),\n",
       "  (<span style=\"color: rgb(0, 187, 0)\"><span class=\"ansi-green-fg\">&quot;ally&quot;</span></span>, <span style=\"color: rgb(0, 187, 0)\"><span class=\"ansi-green-fg\">2</span></span>),\n",
       "  (<span style=\"color: rgb(0, 187, 0)\"><span class=\"ansi-green-fg\">&quot;manuo&quot;</span></span>, <span style=\"color: rgb(0, 187, 0)\"><span class=\"ansi-green-fg\">1</span></span>),\n",
       "  (<span style=\"color: rgb(0, 187, 0)\"><span class=\"ansi-green-fg\">&quot;quarts&quot;</span></span>, <span style=\"color: rgb(0, 187, 0)\"><span class=\"ansi-green-fg\">1</span></span>),\n",
       "...</code></pre>\n",
       "</div>"
      ],
      "text/plain": [
       "\u001b[36mresult\u001b[39m: \u001b[32mIterable\u001b[39m[(\u001b[32mString\u001b[39m, \u001b[32mInt\u001b[39m)] = \u001b[33mBuffer\u001b[39m(\n",
       "  (\u001b[32m\"celebrant\"\u001b[39m, \u001b[32m3\u001b[39m),\n",
       "  (\u001b[32m\"mattered\"\u001b[39m, \u001b[32m2\u001b[39m),\n",
       "  (\u001b[32m\"intimately\"\u001b[39m, \u001b[32m1\u001b[39m),\n",
       "  (\u001b[32m\"reunion\"\u001b[39m, \u001b[32m2\u001b[39m),\n",
       "  (\u001b[32m\"bone\"\u001b[39m, \u001b[32m11\u001b[39m),\n",
       "  (\u001b[32m\"nobleman\"\u001b[39m, \u001b[32m7\u001b[39m),\n",
       "  (\u001b[32m\"syringes\"\u001b[39m, \u001b[32m1\u001b[39m),\n",
       "  (\u001b[32m\"showy\"\u001b[39m, \u001b[32m1\u001b[39m),\n",
       "  (\u001b[32m\"bombast\"\u001b[39m, \u001b[32m1\u001b[39m),\n",
       "  (\u001b[32m\"alavatar\"\u001b[39m, \u001b[32m1\u001b[39m),\n",
       "  (\u001b[32m\"runner\"\u001b[39m, \u001b[32m1\u001b[39m),\n",
       "  (\u001b[32m\"gaping\"\u001b[39m, \u001b[32m11\u001b[39m),\n",
       "  (\u001b[32m\"overcoats\"\u001b[39m, \u001b[32m4\u001b[39m),\n",
       "  (\u001b[32m\"gowns\"\u001b[39m, \u001b[32m2\u001b[39m),\n",
       "  (\u001b[32m\"hem\"\u001b[39m, \u001b[32m2\u001b[39m),\n",
       "  (\u001b[32m\"spirited\"\u001b[39m, \u001b[32m1\u001b[39m),\n",
       "  (\u001b[32m\"loveshivery\"\u001b[39m, \u001b[32m1\u001b[39m),\n",
       "  (\u001b[32m\"been\"\u001b[39m, \u001b[32m203\u001b[39m),\n",
       "  (\u001b[32m\"fuller\"\u001b[39m, \u001b[32m3\u001b[39m),\n",
       "  (\u001b[32m\"jade\"\u001b[39m, \u001b[32m1\u001b[39m),\n",
       "  (\u001b[32m\"jove\"\u001b[39m, \u001b[32m5\u001b[39m),\n",
       "  (\u001b[32m\"crying\"\u001b[39m, \u001b[32m10\u001b[39m),\n",
       "  (\u001b[32m\"showtrays\"\u001b[39m, \u001b[32m1\u001b[39m),\n",
       "  (\u001b[32m\"pwfungg\"\u001b[39m, \u001b[32m1\u001b[39m),\n",
       "  (\u001b[32m\"breath\"\u001b[39m, \u001b[32m59\u001b[39m),\n",
       "  (\u001b[32m\"repress\"\u001b[39m, \u001b[32m3\u001b[39m),\n",
       "  (\u001b[32m\"recurrence\"\u001b[39m, \u001b[32m3\u001b[39m),\n",
       "  (\u001b[32m\"tongued\"\u001b[39m, \u001b[32m1\u001b[39m),\n",
       "  (\u001b[32m\"knows\"\u001b[39m, \u001b[32m72\u001b[39m),\n",
       "  (\u001b[32m\"cleric\"\u001b[39m, \u001b[32m1\u001b[39m),\n",
       "  (\u001b[32m\"husky\"\u001b[39m, \u001b[32m3\u001b[39m),\n",
       "  (\u001b[32m\"distrait\"\u001b[39m, \u001b[32m2\u001b[39m),\n",
       "  (\u001b[32m\"eventuality\"\u001b[39m, \u001b[32m2\u001b[39m),\n",
       "  (\u001b[32m\"tips\"\u001b[39m, \u001b[32m3\u001b[39m),\n",
       "  (\u001b[32m\"coylo\"\u001b[39m, \u001b[32m1\u001b[39m),\n",
       "  (\u001b[32m\"ally\"\u001b[39m, \u001b[32m2\u001b[39m),\n",
       "  (\u001b[32m\"manuo\"\u001b[39m, \u001b[32m1\u001b[39m),\n",
       "  (\u001b[32m\"quarts\"\u001b[39m, \u001b[32m1\u001b[39m),\n",
       "..."
      ]
     },
     "metadata": {},
     "output_type": "display_data"
    }
   ],
   "source": [
    "var result = wordcount(context)"
   ]
  },
  {
   "cell_type": "markdown",
   "metadata": {},
   "source": [
    "## Flink Execution\n",
    "\n",
    "Prepare the dependencies and set the Flink Plugin"
   ]
  },
  {
   "cell_type": "code",
   "execution_count": 9,
   "metadata": {},
   "outputs": [
    {
     "data": {
      "text/plain": [
       "\u001b[32mimport \u001b[39m\u001b[36m$ivy.$                                               \n",
       "\u001b[39m\n",
       "\u001b[32mimport \u001b[39m\u001b[36morg.apache.wayang.flink.Flink\n",
       "\u001b[39m\n",
       "\u001b[36mcontext\u001b[39m: \u001b[32mWayangContext\u001b[39m = org.apache.wayang.core.api.WayangContext@7798c974"
      ]
     },
     "execution_count": 9,
     "metadata": {},
     "output_type": "execute_result"
    }
   ],
   "source": [
    "import $ivy.`org.apache.wayang::wayang-flink:0.6.1-SNAPSHOT`\n",
    "import org.apache.wayang.flink.Flink\n",
    "val context = new WayangContext().withPlugin(Flink.basicPlugin)"
   ]
  },
  {
   "cell_type": "code",
   "execution_count": 10,
   "metadata": {},
   "outputs": [
    {
     "name": "stderr",
     "output_type": "stream",
     "text": [
      "22/03/04 15:07:43 INFO TypeExtractor: class scala.Tuple2 is missing a default constructor so it cannot be used as a POJO type and must be processed as GenericType. Please read the Flink documentation on \"Data Types & Serialization\" for details of the effect on performance.\n",
      "22/03/04 15:07:43 INFO ExecutionEnvironment: The job has 1 registered types and 0 default Kryo serializers\n"
     ]
    },
    {
     "data": {
      "text/html": [
       "<div class=\"jp-RenderedText\">\n",
       "<pre><code><span style=\"color: rgb(0, 187, 187)\"><span class=\"ansi-cyan-fg\">result</span></span>: <span style=\"color: rgb(0, 187, 0)\"><span class=\"ansi-green-fg\">Iterable</span></span>[(<span style=\"color: rgb(0, 187, 0)\"><span class=\"ansi-green-fg\">String</span></span>, <span style=\"color: rgb(0, 187, 0)\"><span class=\"ansi-green-fg\">Int</span></span>)] = <span style=\"color: yellow\"><span class=\"ansi-yellow-fg\">Buffer</span></span>(\n",
       "  (<span style=\"color: rgb(0, 187, 0)\"><span class=\"ansi-green-fg\">&quot;frowning&quot;</span></span>, <span style=\"color: rgb(0, 187, 0)\"><span class=\"ansi-green-fg\">10</span></span>),\n",
       "  (<span style=\"color: rgb(0, 187, 0)\"><span class=\"ansi-green-fg\">&quot;zulus&quot;</span></span>, <span style=\"color: rgb(0, 187, 0)\"><span class=\"ansi-green-fg\">1</span></span>),\n",
       "  (<span style=\"color: rgb(0, 187, 0)\"><span class=\"ansi-green-fg\">&quot;horsepoliceman&quot;</span></span>, <span style=\"color: rgb(0, 187, 0)\"><span class=\"ansi-green-fg\">1</span></span>),\n",
       "  (<span style=\"color: rgb(0, 187, 0)\"><span class=\"ansi-green-fg\">&quot;spilling&quot;</span></span>, <span style=\"color: rgb(0, 187, 0)\"><span class=\"ansi-green-fg\">3</span></span>),\n",
       "  (<span style=\"color: rgb(0, 187, 0)\"><span class=\"ansi-green-fg\">&quot;auditively&quot;</span></span>, <span style=\"color: rgb(0, 187, 0)\"><span class=\"ansi-green-fg\">1</span></span>),\n",
       "  (<span style=\"color: rgb(0, 187, 0)\"><span class=\"ansi-green-fg\">&quot;kraandl&quot;</span></span>, <span style=\"color: rgb(0, 187, 0)\"><span class=\"ansi-green-fg\">1</span></span>),\n",
       "  (<span style=\"color: rgb(0, 187, 0)\"><span class=\"ansi-green-fg\">&quot;abrupt&quot;</span></span>, <span style=\"color: rgb(0, 187, 0)\"><span class=\"ansi-green-fg\">1</span></span>),\n",
       "  (<span style=\"color: rgb(0, 187, 0)\"><span class=\"ansi-green-fg\">&quot;jellily&quot;</span></span>, <span style=\"color: rgb(0, 187, 0)\"><span class=\"ansi-green-fg\">1</span></span>),\n",
       "  (<span style=\"color: rgb(0, 187, 0)\"><span class=\"ansi-green-fg\">&quot;agendath&quot;</span></span>, <span style=\"color: rgb(0, 187, 0)\"><span class=\"ansi-green-fg\">14</span></span>),\n",
       "  (<span style=\"color: rgb(0, 187, 0)\"><span class=\"ansi-green-fg\">&quot;salary&quot;</span></span>, <span style=\"color: rgb(0, 187, 0)\"><span class=\"ansi-green-fg\">2</span></span>),\n",
       "  (<span style=\"color: rgb(0, 187, 0)\"><span class=\"ansi-green-fg\">&quot;childs&quot;</span></span>, <span style=\"color: rgb(0, 187, 0)\"><span class=\"ansi-green-fg\">8</span></span>),\n",
       "  (<span style=\"color: rgb(0, 187, 0)\"><span class=\"ansi-green-fg\">&quot;pretend&quot;</span></span>, <span style=\"color: rgb(0, 187, 0)\"><span class=\"ansi-green-fg\">5</span></span>),\n",
       "  (<span style=\"color: rgb(0, 187, 0)\"><span class=\"ansi-green-fg\">&quot;guards&quot;</span></span>, <span style=\"color: rgb(0, 187, 0)\"><span class=\"ansi-green-fg\">1</span></span>),\n",
       "  (<span style=\"color: rgb(0, 187, 0)\"><span class=\"ansi-green-fg\">&quot;eamus&quot;</span></span>, <span style=\"color: rgb(0, 187, 0)\"><span class=\"ansi-green-fg\">3</span></span>),\n",
       "  (<span style=\"color: rgb(0, 187, 0)\"><span class=\"ansi-green-fg\">&quot;childe&quot;</span></span>, <span style=\"color: rgb(0, 187, 0)\"><span class=\"ansi-green-fg\">2</span></span>),\n",
       "  (<span style=\"color: rgb(0, 187, 0)\"><span class=\"ansi-green-fg\">&quot;catamite&quot;</span></span>, <span style=\"color: rgb(0, 187, 0)\"><span class=\"ansi-green-fg\">1</span></span>),\n",
       "  (<span style=\"color: rgb(0, 187, 0)\"><span class=\"ansi-green-fg\">&quot;whenas&quot;</span></span>, <span style=\"color: rgb(0, 187, 0)\"><span class=\"ansi-green-fg\">1</span></span>),\n",
       "  (<span style=\"color: rgb(0, 187, 0)\"><span class=\"ansi-green-fg\">&quot;widowhood&quot;</span></span>, <span style=\"color: rgb(0, 187, 0)\"><span class=\"ansi-green-fg\">1</span></span>),\n",
       "  (<span style=\"color: rgb(0, 187, 0)\"><span class=\"ansi-green-fg\">&quot;ruttime&quot;</span></span>, <span style=\"color: rgb(0, 187, 0)\"><span class=\"ansi-green-fg\">1</span></span>),\n",
       "  (<span style=\"color: rgb(0, 187, 0)\"><span class=\"ansi-green-fg\">&quot;stonily&quot;</span></span>, <span style=\"color: rgb(0, 187, 0)\"><span class=\"ansi-green-fg\">1</span></span>),\n",
       "  (<span style=\"color: rgb(0, 187, 0)\"><span class=\"ansi-green-fg\">&quot;mulveys&quot;</span></span>, <span style=\"color: rgb(0, 187, 0)\"><span class=\"ansi-green-fg\">2</span></span>),\n",
       "  (<span style=\"color: rgb(0, 187, 0)\"><span class=\"ansi-green-fg\">&quot;coals&quot;</span></span>, <span style=\"color: rgb(0, 187, 0)\"><span class=\"ansi-green-fg\">5</span></span>),\n",
       "  (<span style=\"color: rgb(0, 187, 0)\"><span class=\"ansi-green-fg\">&quot;avant&quot;</span></span>, <span style=\"color: rgb(0, 187, 0)\"><span class=\"ansi-green-fg\">4</span></span>),\n",
       "  (<span style=\"color: rgb(0, 187, 0)\"><span class=\"ansi-green-fg\">&quot;blasts&quot;</span></span>, <span style=\"color: rgb(0, 187, 0)\"><span class=\"ansi-green-fg\">1</span></span>),\n",
       "  (<span style=\"color: rgb(0, 187, 0)\"><span class=\"ansi-green-fg\">&quot;forlornlooking&quot;</span></span>, <span style=\"color: rgb(0, 187, 0)\"><span class=\"ansi-green-fg\">1</span></span>),\n",
       "  (<span style=\"color: rgb(0, 187, 0)\"><span class=\"ansi-green-fg\">&quot;posthumity&quot;</span></span>, <span style=\"color: rgb(0, 187, 0)\"><span class=\"ansi-green-fg\">1</span></span>),\n",
       "  (<span style=\"color: rgb(0, 187, 0)\"><span class=\"ansi-green-fg\">&quot;tallow&quot;</span></span>, <span style=\"color: rgb(0, 187, 0)\"><span class=\"ansi-green-fg\">1</span></span>),\n",
       "  (<span style=\"color: rgb(0, 187, 0)\"><span class=\"ansi-green-fg\">&quot;compassionate&quot;</span></span>, <span style=\"color: rgb(0, 187, 0)\"><span class=\"ansi-green-fg\">1</span></span>),\n",
       "  (<span style=\"color: rgb(0, 187, 0)\"><span class=\"ansi-green-fg\">&quot;cockhorse&quot;</span></span>, <span style=\"color: rgb(0, 187, 0)\"><span class=\"ansi-green-fg\">3</span></span>),\n",
       "  (<span style=\"color: rgb(0, 187, 0)\"><span class=\"ansi-green-fg\">&quot;0&quot;</span></span>, <span style=\"color: rgb(0, 187, 0)\"><span class=\"ansi-green-fg\">3</span></span>),\n",
       "  (<span style=\"color: rgb(0, 187, 0)\"><span class=\"ansi-green-fg\">&quot;1&quot;</span></span>, <span style=\"color: rgb(0, 187, 0)\"><span class=\"ansi-green-fg\">17</span></span>),\n",
       "  (<span style=\"color: rgb(0, 187, 0)\"><span class=\"ansi-green-fg\">&quot;2&quot;</span></span>, <span style=\"color: rgb(0, 187, 0)\"><span class=\"ansi-green-fg\">15</span></span>),\n",
       "  (<span style=\"color: rgb(0, 187, 0)\"><span class=\"ansi-green-fg\">&quot;4&quot;</span></span>, <span style=\"color: rgb(0, 187, 0)\"><span class=\"ansi-green-fg\">1</span></span>),\n",
       "  (<span style=\"color: rgb(0, 187, 0)\"><span class=\"ansi-green-fg\">&quot;5&quot;</span></span>, <span style=\"color: rgb(0, 187, 0)\"><span class=\"ansi-green-fg\">5</span></span>),\n",
       "  (<span style=\"color: rgb(0, 187, 0)\"><span class=\"ansi-green-fg\">&quot;decorators&quot;</span></span>, <span style=\"color: rgb(0, 187, 0)\"><span class=\"ansi-green-fg\">1</span></span>),\n",
       "  (<span style=\"color: rgb(0, 187, 0)\"><span class=\"ansi-green-fg\">&quot;6&quot;</span></span>, <span style=\"color: rgb(0, 187, 0)\"><span class=\"ansi-green-fg\">11</span></span>),\n",
       "  (<span style=\"color: rgb(0, 187, 0)\"><span class=\"ansi-green-fg\">&quot;bandolierwise&quot;</span></span>, <span style=\"color: rgb(0, 187, 0)\"><span class=\"ansi-green-fg\">1</span></span>),\n",
       "  (<span style=\"color: rgb(0, 187, 0)\"><span class=\"ansi-green-fg\">&quot;7&quot;</span></span>, <span style=\"color: rgb(0, 187, 0)\"><span class=\"ansi-green-fg\">3</span></span>),\n",
       "...</code></pre>\n",
       "</div>"
      ],
      "text/plain": [
       "\u001b[36mresult\u001b[39m: \u001b[32mIterable\u001b[39m[(\u001b[32mString\u001b[39m, \u001b[32mInt\u001b[39m)] = \u001b[33mBuffer\u001b[39m(\n",
       "  (\u001b[32m\"frowning\"\u001b[39m, \u001b[32m10\u001b[39m),\n",
       "  (\u001b[32m\"zulus\"\u001b[39m, \u001b[32m1\u001b[39m),\n",
       "  (\u001b[32m\"horsepoliceman\"\u001b[39m, \u001b[32m1\u001b[39m),\n",
       "  (\u001b[32m\"spilling\"\u001b[39m, \u001b[32m3\u001b[39m),\n",
       "  (\u001b[32m\"auditively\"\u001b[39m, \u001b[32m1\u001b[39m),\n",
       "  (\u001b[32m\"kraandl\"\u001b[39m, \u001b[32m1\u001b[39m),\n",
       "  (\u001b[32m\"abrupt\"\u001b[39m, \u001b[32m1\u001b[39m),\n",
       "  (\u001b[32m\"jellily\"\u001b[39m, \u001b[32m1\u001b[39m),\n",
       "  (\u001b[32m\"agendath\"\u001b[39m, \u001b[32m14\u001b[39m),\n",
       "  (\u001b[32m\"salary\"\u001b[39m, \u001b[32m2\u001b[39m),\n",
       "  (\u001b[32m\"childs\"\u001b[39m, \u001b[32m8\u001b[39m),\n",
       "  (\u001b[32m\"pretend\"\u001b[39m, \u001b[32m5\u001b[39m),\n",
       "  (\u001b[32m\"guards\"\u001b[39m, \u001b[32m1\u001b[39m),\n",
       "  (\u001b[32m\"eamus\"\u001b[39m, \u001b[32m3\u001b[39m),\n",
       "  (\u001b[32m\"childe\"\u001b[39m, \u001b[32m2\u001b[39m),\n",
       "  (\u001b[32m\"catamite\"\u001b[39m, \u001b[32m1\u001b[39m),\n",
       "  (\u001b[32m\"whenas\"\u001b[39m, \u001b[32m1\u001b[39m),\n",
       "  (\u001b[32m\"widowhood\"\u001b[39m, \u001b[32m1\u001b[39m),\n",
       "  (\u001b[32m\"ruttime\"\u001b[39m, \u001b[32m1\u001b[39m),\n",
       "  (\u001b[32m\"stonily\"\u001b[39m, \u001b[32m1\u001b[39m),\n",
       "  (\u001b[32m\"mulveys\"\u001b[39m, \u001b[32m2\u001b[39m),\n",
       "  (\u001b[32m\"coals\"\u001b[39m, \u001b[32m5\u001b[39m),\n",
       "  (\u001b[32m\"avant\"\u001b[39m, \u001b[32m4\u001b[39m),\n",
       "  (\u001b[32m\"blasts\"\u001b[39m, \u001b[32m1\u001b[39m),\n",
       "  (\u001b[32m\"forlornlooking\"\u001b[39m, \u001b[32m1\u001b[39m),\n",
       "  (\u001b[32m\"posthumity\"\u001b[39m, \u001b[32m1\u001b[39m),\n",
       "  (\u001b[32m\"tallow\"\u001b[39m, \u001b[32m1\u001b[39m),\n",
       "  (\u001b[32m\"compassionate\"\u001b[39m, \u001b[32m1\u001b[39m),\n",
       "  (\u001b[32m\"cockhorse\"\u001b[39m, \u001b[32m3\u001b[39m),\n",
       "  (\u001b[32m\"0\"\u001b[39m, \u001b[32m3\u001b[39m),\n",
       "  (\u001b[32m\"1\"\u001b[39m, \u001b[32m17\u001b[39m),\n",
       "  (\u001b[32m\"2\"\u001b[39m, \u001b[32m15\u001b[39m),\n",
       "  (\u001b[32m\"4\"\u001b[39m, \u001b[32m1\u001b[39m),\n",
       "  (\u001b[32m\"5\"\u001b[39m, \u001b[32m5\u001b[39m),\n",
       "  (\u001b[32m\"decorators\"\u001b[39m, \u001b[32m1\u001b[39m),\n",
       "  (\u001b[32m\"6\"\u001b[39m, \u001b[32m11\u001b[39m),\n",
       "  (\u001b[32m\"bandolierwise\"\u001b[39m, \u001b[32m1\u001b[39m),\n",
       "  (\u001b[32m\"7\"\u001b[39m, \u001b[32m3\u001b[39m),\n",
       "..."
      ]
     },
     "metadata": {},
     "output_type": "display_data"
    }
   ],
   "source": [
    "var result = wordcount(context)"
   ]
  },
  {
   "cell_type": "markdown",
   "metadata": {},
   "source": [
    "## How is the Wordcount in the platforms\n",
    "\n",
    "### Java Stream Implementation\n",
    "\n",
    "```java    \n",
    "public class JavaWordCount {\n",
    "  public static void main(String args[]) {\n",
    "    long wordCount = 0;\n",
    "    Path textFilePath = Paths.get(args[0]);\n",
    "    try {\n",
    "      Stream<String> fileLines = \n",
    "      Files\n",
    "          .lines(textFilePath, Charset.defaultCharset())\n",
    "          .flatMap(line -> Arrays.stream(line.split(\"\\\\W+\")));\n",
    "          .filter(t -> t.length() != 0)\n",
    "          .collect(\n",
    "              Collectors.toConcurrentMap(\n",
    "                  w -> w, \n",
    "                  w -> 1,\n",
    "                  Integer::sum\n",
    "              )\n",
    "          );\n",
    "    } catch (IOException ioException) {\n",
    "      ioException.printStackTrace();\n",
    "    }\n",
    "  }\n",
    "}\n",
    "```\n",
    "\n",
    "### Apache Flink Implementation\n",
    "\n",
    "```scala\n",
    "object FlinkWordCount {\n",
    "  def main(args: Array[String]) {\n",
    "    val env = ExecutionEnvironment.getExecutionEnvironment\n",
    "    \n",
    "    env.readTextFile(args(0))\n",
    "      .flatMap { _.split(\"\\\\W+\") \n",
    "      .filter(t -> t.length() != 0)\n",
    "      .map { (_, 1) }\n",
    "      .groupBy(0)\n",
    "      .sum(1)\n",
    "      .writeAsCsv(args(1), \"\\n\", \" \")\n",
    "                \n",
    "    env.execute(\"FlinkWordCount\")\n",
    "  }\n",
    "}\n",
    "```\n",
    "\n",
    "### Apache Spark Implementation\n",
    "\n",
    "```scala\n",
    "object SparkWordCount {\n",
    "    def main(args: Array[String]) {\n",
    "      val conf = new SparkConf().setAppName(\"SparkWordCount\")\n",
    "      val sc = new SparkContext(conf)\n",
    "      sc.textFile(args(0))\n",
    "          .flatMap(line => line.split(\"\\\\W+\"))\n",
    "          .filter(word => word.length != 0 )\n",
    "          .map(word => (word, 1)) // implicit convertion to RDDPair\n",
    "          .reduceByKey{case (x, y) => x + y}\n",
    "          .saveAsTextFile(args(1))\n",
    "    }\n",
    "}\n",
    "```"
   ]
  }
 ],
 "metadata": {
  "kernelspec": {
   "display_name": "Scala 2.12",
   "language": "scala",
   "name": "scala212"
  },
  "language_info": {
   "codemirror_mode": "text/x-scala",
   "file_extension": ".sc",
   "mimetype": "text/x-scala",
   "name": "scala",
   "nbconvert_exporter": "script",
   "version": "2.12.12"
  }
 },
 "nbformat": 4,
 "nbformat_minor": 4
}